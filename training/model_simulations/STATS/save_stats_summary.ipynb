{
 "cells": [
  {
   "cell_type": "code",
   "execution_count": 67,
   "metadata": {},
   "outputs": [],
   "source": [
    "import os\n",
    "from os import listdir\n",
    "from os.path import isfile, join\n",
    "import pandas as pd"
   ]
  },
  {
   "cell_type": "code",
   "execution_count": 2,
   "metadata": {},
   "outputs": [],
   "source": [
    "letters = ['A', 'B', 'C', 'D', 'E']"
   ]
  },
  {
   "cell_type": "code",
   "execution_count": 28,
   "metadata": {},
   "outputs": [],
   "source": [
    "def get_directory_dictionary():\n",
    "    \"\"\"\n",
    "    Creates dictionary of directory names for each letter\n",
    "    and each depth\n",
    "    \"\"\"\n",
    "    directory = '/Users/agnese/Dropbox/PyCharmProjects/gym_tower_of_london/training/model_simulations/STATS/{}/rewards/depth_{}/'\n",
    "    by_letter = {}\n",
    "    for letter in letters:\n",
    "        by_range = {}\n",
    "        for depth in range(5):\n",
    "            by_range[depth] = directory.format(letter, depth)\n",
    "        by_letter[letter] = by_range\n",
    "    return by_letter\n",
    "\n",
    "def read_files_from_directory(directory):\n",
    "    files = [join(directory, f) for f in listdir(directory) if isfile(join(directory, f))]\n",
    "    return files\n",
    "\n",
    "# Saves data of all the participants in the directory in one summary file\n",
    "def save_files(files_dict, name):\n",
    "    df = pd.DataFrame()\n",
    "    for f in files_dict:\n",
    "        frame = pd.read_csv(f, index_col=False)\n",
    "        s = f.find('pid=')\n",
    "    df[f[s : s + 6]] = frame.LAST_100_MOVES\n",
    "    df.to_csv(name, index=False)\n",
    "    return df\n",
    "    \n",
    "\n",
    "def save_summary():\n",
    "    directory = '/Users/agnese/Dropbox/PyCharmProjects/gym_tower_of_london/training/model_simulations/STATS/{}/rewards/depth_{}/'\n",
    "    by_letter = get_directory_dictionary()\n",
    "    for letter in letters:\n",
    "        letter_dict = by_letter.get(letter)\n",
    "        for depth in range(5):\n",
    "            dir_depth = letter_dict.get(depth)\n",
    "            dict_depth = read_files_from_directory(dir_depth)\n",
    "            name = f'summary_{letter}_{depth}.csv'\n",
    "            file_name = join(directory.format(letter, depth), name)\n",
    "            df = save_files(dict_depth, file_name)\n",
    "\n",
    "            "
   ]
  },
  {
   "cell_type": "code",
   "execution_count": null,
   "metadata": {},
   "outputs": [],
   "source": [
    "save_summary()"
   ]
  }
 ],
 "metadata": {
  "kernelspec": {
   "display_name": "Python 3",
   "language": "python",
   "name": "python3"
  },
  "language_info": {
   "codemirror_mode": {
    "name": "ipython",
    "version": 3
   },
   "file_extension": ".py",
   "mimetype": "text/x-python",
   "name": "python",
   "nbconvert_exporter": "python",
   "pygments_lexer": "ipython3",
   "version": "3.8.3"
  }
 },
 "nbformat": 4,
 "nbformat_minor": 4
}
