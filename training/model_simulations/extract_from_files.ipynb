{
 "cells": [
  {
   "cell_type": "code",
   "execution_count": 1,
   "metadata": {},
   "outputs": [],
   "source": [
    "from os import listdir\n",
    "from os.path import isfile, join\n",
    "\n",
    "import pandas as pd"
   ]
  },
  {
   "cell_type": "code",
   "execution_count": 2,
   "metadata": {},
   "outputs": [],
   "source": [
    "letter = 'A'\n",
    "episodes = 1000\n",
    "directory = f'/Users/agnese/Dropbox/PyCharmProjects/gym_tower_of_london/training/model_simulations/{letter}/'"
   ]
  },
  {
   "cell_type": "markdown",
   "metadata": {},
   "source": [
    "### Gets all the files from directory that starts with specified file name"
   ]
  },
  {
   "cell_type": "code",
   "execution_count": 44,
   "metadata": {},
   "outputs": [],
   "source": [
    "def get_depth(name):\n",
    "    n = name.find('depth=')\n",
    "    start = n + 6\n",
    "    d = name[start : start + 1]\n",
    "    return int(d)\n",
    "\n",
    "\n",
    "def get_files_in_dir(directory, name, depth):\n",
    "    \"\"\"\n",
    "    Returns list of file name in directory that\n",
    "    starts with specified name\n",
    "    \"\"\"   \n",
    "    return [join(directory, f) for f in listdir(directory) if isfile(join(\n",
    "        directory, f)) and f.startswith(name) and get_depth(f) == depth]\n",
    "\n",
    "def read_data_in_df(files):\n",
    "    df = pd.DataFrame()\n",
    "    for f in files:\n",
    "        frame = pd.read_csv(f)\n",
    "        pid = f.find('pid=')\n",
    "        col = f[pid:pid + 6]\n",
    "        df[f'{col}_MOVE_COUNT'] = frame.MOVE_COUNT.tail(100)\n",
    "        df[f'{col}_ACTIONS_NUMBERS'] = frame.ACTIONS_NUMBERS.tail(100)\n",
    "        df[f'{col}_PATHS'] = frame.PATHS.tail(100)\n",
    "    return df"
   ]
  },
  {
   "cell_type": "code",
   "execution_count": 29,
   "metadata": {},
   "outputs": [],
   "source": [
    "directory = '/Users/agnese/Dropbox/PyCharmProjects/gym_tower_of_london/training/model_simulations/{}/'\n",
    "name = '{}_v0_dyna-h_stats_ep=1000_pid='\n",
    "\n",
    "dir_a = directory.format('A')\n",
    "dir_b = directory.format('B')\n",
    "dir_c = directory.format('C')\n",
    "dir_d = directory.format('D')\n",
    "dir_e = directory.format('E')"
   ]
  },
  {
   "cell_type": "code",
   "execution_count": 45,
   "metadata": {},
   "outputs": [],
   "source": [
    "dir_A0 = get_files_in_dir(dir_a, name.format('A'), 0)\n",
    "dir_B0 = get_files_in_dir(dir_a, name.format('B'), 0)\n",
    "dir_C0 = get_files_in_dir(dir_a, name.format('C'), 0)\n",
    "dir_D0 = get_files_in_dir(dir_a, name.format('D'), 0)\n",
    "dir_E0 = get_files_in_dir(dir_a, name.format('E'), 0)"
   ]
  },
  {
   "cell_type": "code",
   "execution_count": 20,
   "metadata": {},
   "outputs": [],
   "source": [
    "a0 = read_data_in_df(dir_A0)\n",
    "b0 = read_data_in_df(dir_B0)\n",
    "c0 = read_data_in_df(dir_C0)\n",
    "d0 = read_data_in_df(dir_D0)\n",
    "e0 = read_data_in_df(dir_E0)"
   ]
  },
  {
   "cell_type": "code",
   "execution_count": 24,
   "metadata": {},
   "outputs": [],
   "source": [
    "a0.to_csv('simulation_1_moves_A0.csv', index=False)\n",
    "b0.to_csv('simulation_1_moves_B0.csv', index=False)\n",
    "c0.to_csv('simulation_1_moves_C0.csv', index=False)\n",
    "d0.to_csv('simulation_1_moves_D0.csv', index=False)\n",
    "e0.to_csv('simulation_1_moves_E0.csv', index=False)"
   ]
  },
  {
   "cell_type": "markdown",
   "metadata": {},
   "source": [
    "### Sort these files into different experimental conditions"
   ]
  },
  {
   "cell_type": "code",
   "execution_count": 29,
   "metadata": {},
   "outputs": [],
   "source": [
    "depth_0 = []\n",
    "depth_1 = []\n",
    "depth_2 = []\n",
    "depth_3 = []\n",
    "depth_4 = []\n",
    "\n",
    "for f in files:\n",
    "    d = f[141:142] # extracts depth from file name\n",
    "    if d == '0' : \n",
    "        depth_0.append(f)\n",
    "    elif d == '1':\n",
    "        depth_1.append(f)\n",
    "    elif d == '2':\n",
    "        depth_2.append(f)\n",
    "    elif d == '3':\n",
    "        depth_3.append(f)\n",
    "    else:\n",
    "        depth_4.append(f)"
   ]
  },
  {
   "cell_type": "markdown",
   "metadata": {},
   "source": [
    "## Read the files and add last 100 entries of MOVES_MADE to dataframe"
   ]
  },
  {
   "cell_type": "code",
   "execution_count": 37,
   "metadata": {},
   "outputs": [],
   "source": [
    "def read_files(files):\n",
    "    dfs = {}\n",
    "    for f in files:\n",
    "        df = pd.read_csv(f)\n",
    "        dfs[f] = df\n",
    "    return dfs\n",
    "        "
   ]
  },
  {
   "cell_type": "markdown",
   "metadata": {},
   "source": [
    "#### Read files for each experimental condition into seperate dictionary"
   ]
  },
  {
   "cell_type": "code",
   "execution_count": 40,
   "metadata": {},
   "outputs": [],
   "source": [
    "dfs_0 = read_files(depth_0)\n",
    "dfs_1 = read_files(depth_1)\n",
    "dfs_2 = read_files(depth_2)\n",
    "dfs_3 = read_files(depth_3)\n",
    "dfs_4 = read_files(depth_4)"
   ]
  },
  {
   "cell_type": "markdown",
   "metadata": {},
   "source": [
    "#### Loop through the set and get column MOVE_COUNTS"
   ]
  },
  {
   "cell_type": "code",
   "execution_count": 67,
   "metadata": {},
   "outputs": [],
   "source": [
    "def combine_results(dfs):\n",
    "    frame = pd.DataFrame()\n",
    "    for n, df in dfs_0.items():\n",
    "        p = int(n[117:118])\n",
    "        frame[p] = df.MOVE_COUNT.tail(100)\n",
    "    return frame.reset_index(drop=True)\n"
   ]
  },
  {
   "cell_type": "code",
   "execution_count": 71,
   "metadata": {},
   "outputs": [],
   "source": [
    "df0 = combine_results(dfs_0)\n",
    "df1 = combine_results(dfs_1)\n",
    "df2 = combine_results(dfs_2)\n",
    "df3 = combine_results(dfs_3)\n",
    "df4 = combine_results(dfs_4)"
   ]
  },
  {
   "cell_type": "markdown",
   "metadata": {},
   "source": [
    "#### Save dataframes as CSV files for each task and separately"
   ]
  },
  {
   "cell_type": "code",
   "execution_count": 78,
   "metadata": {},
   "outputs": [],
   "source": [
    "results = [df0, df1, df2, df3, df4]\n",
    "\n",
    "for i, f in enumerate(results):\n",
    "    file_name = f'{letter}_depth={i}_last_100_moves.csv'\n",
    "    f.to_csv(file_name, index=False)"
   ]
  },
  {
   "cell_type": "code",
   "execution_count": 75,
   "metadata": {},
   "outputs": [
    {
     "data": {
      "text/plain": [
       "'A_depth=0_last_100_moves.csv'"
      ]
     },
     "execution_count": 75,
     "metadata": {},
     "output_type": "execute_result"
    }
   ],
   "source": [
    "file_name"
   ]
  },
  {
   "cell_type": "code",
   "execution_count": 11,
   "metadata": {},
   "outputs": [
    {
     "data": {
      "text/plain": [
       "50"
      ]
     },
     "execution_count": 11,
     "metadata": {},
     "output_type": "execute_result"
    }
   ],
   "source": [
    "len(files)"
   ]
  },
  {
   "cell_type": "code",
   "execution_count": 16,
   "metadata": {},
   "outputs": [
    {
     "name": "stdout",
     "output_type": "stream",
     "text": [
      "depth 0\n",
      "depth 2\n",
      "depth 1\n",
      "depth 4\n",
      "depth 3\n",
      "depth 2\n",
      "depth 1\n",
      "depth 4\n",
      "depth 3\n",
      "depth 4\n",
      "depth 3\n",
      "depth 0\n",
      "depth 2\n",
      "depth 4\n",
      "depth 1\n",
      "depth 3\n",
      "depth 1\n",
      "depth 0\n",
      "depth 2\n",
      "depth 0\n",
      "depth 2\n",
      "depth 4\n",
      "depth 1\n",
      "depth 3\n",
      "depth 0\n",
      "depth 0\n",
      "depth 2\n",
      "depth 1\n",
      "depth 4\n",
      "depth 3\n",
      "depth 2\n",
      "depth 1\n",
      "depth 4\n",
      "depth 3\n",
      "depth 4\n",
      "depth 3\n",
      "depth 0\n",
      "depth 2\n",
      "depth 4\n",
      "depth 1\n",
      "depth 3\n",
      "depth 1\n",
      "depth 0\n",
      "depth 2\n",
      "depth 0\n",
      "depth 2\n",
      "depth 4\n",
      "depth 1\n",
      "depth 3\n",
      "depth 0\n"
     ]
    }
   ],
   "source": [
    "for f in files:\n",
    "#     print(f.find('depth='))\n",
    "    print('depth', f[141:142])"
   ]
  }
 ],
 "metadata": {
  "kernelspec": {
   "display_name": "Python 3",
   "language": "python",
   "name": "python3"
  },
  "language_info": {
   "codemirror_mode": {
    "name": "ipython",
    "version": 3
   },
   "file_extension": ".py",
   "mimetype": "text/x-python",
   "name": "python",
   "nbconvert_exporter": "python",
   "pygments_lexer": "ipython3",
   "version": "3.8.3"
  }
 },
 "nbformat": 4,
 "nbformat_minor": 4
}
